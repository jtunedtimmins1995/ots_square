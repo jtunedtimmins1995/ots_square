{
 "cells": [
  {
   "cell_type": "code",
   "execution_count": 1,
   "metadata": {},
   "outputs": [],
   "source": [
    "from square.client import Client\n",
    "import os\n",
    "import pandas as pd\n",
    "\n",
    "from google_sheets import *\n",
    "from boto import get_square_secret\n",
    "import datetime as dt\n",
    "# import pandas as pd\n",
    "\n",
    "# import os\n",
    "import pickle\n",
    "import uuid"
   ]
  },
  {
   "cell_type": "code",
   "execution_count": 2,
   "metadata": {},
   "outputs": [],
   "source": [
    "client = Client(\n",
    "    access_token=get_square_secret()['SQUARE_ACCESS_TOKEN'],\n",
    "    environment='production')"
   ]
  },
  {
   "cell_type": "code",
   "execution_count": 3,
   "metadata": {},
   "outputs": [],
   "source": [
    "catalog_api = client.catalog"
   ]
  },
  {
   "cell_type": "code",
   "execution_count": 18,
   "metadata": {},
   "outputs": [],
   "source": [
    "result = catalog_api.list_catalog(\n",
    "    \n",
    ")\n",
    "items = [item for item in result.body['objects']]\n",
    "\n",
    "\n",
    "i=1\n",
    "while result.cursor:\n",
    "    print(i)\n",
    "    i+=1\n",
    "    result =  catalog_api.list_catalog(\n",
    "        cursor = result.cursor\n",
    "    )\n",
    "    items2 = [item for item in result.body['objects']]\n",
    "\n",
    "    items = items + items2"
   ]
  },
  {
   "cell_type": "code",
   "execution_count": 25,
   "metadata": {},
   "outputs": [
    {
     "data": {
      "text/plain": [
       "0     [{'catalog_v1_id': '45C7CEC9-332B-4DF8-B4A4-C4...\n",
       "1     [{'catalog_v1_id': '0A079EC9-4D3C-45D8-B559-4D...\n",
       "2     [{'catalog_v1_id': '7543F5F5-D6A3-4A80-B63C-79...\n",
       "3     [{'catalog_v1_id': '3798A878-1611-4631-ADCB-CA...\n",
       "4     [{'catalog_v1_id': 'BA0EF7F0-E00C-4491-A6D6-64...\n",
       "5     [{'catalog_v1_id': '2A3C3586-8A18-4C90-A749-59...\n",
       "6     [{'catalog_v1_id': '397F4709-C0FC-455E-9E95-C3...\n",
       "7     [{'catalog_v1_id': 'BCC21AE6-0ED5-4806-98B4-CE...\n",
       "8     [{'catalog_v1_id': 'CE59037A-751A-45CF-82F0-58...\n",
       "9     [{'catalog_v1_id': 'C9B80D13-41C2-4A97-BA3F-8B...\n",
       "10    [{'catalog_v1_id': '32ACBB35-6BB9-4FD3-BCB5-DE...\n",
       "11    [{'catalog_v1_id': '6CE314F1-583A-4D1D-ACE9-7B...\n",
       "12    [{'catalog_v1_id': '0C81AF00-B0B7-49E1-9F37-A8...\n",
       "13                                                  NaN\n",
       "14    [{'catalog_v1_id': 'd603127e-1db3-45f4-8b42-32...\n",
       "15    [{'catalog_v1_id': '10d66d16-92b0-4f01-ab88-0e...\n",
       "16    [{'catalog_v1_id': 'da7154d5-d5f8-45ee-a3d5-6c...\n",
       "17    [{'catalog_v1_id': 'E35ZZ6FDBWGYRNMYWREJVDT2',...\n",
       "18    [{'catalog_v1_id': 'NUPXUE3A4B5PNBBV7H6P4HAL',...\n",
       "19    [{'catalog_v1_id': 'CWUTCUWVQPVU32UZGZ6F4SBW',...\n",
       "20    [{'catalog_v1_id': 'BC7JEYEKL2HQ25VMLLIZRSKE',...\n",
       "21    [{'catalog_v1_id': '3Y2Q54IRPOW6KVODZHBPFWEG',...\n",
       "22    [{'catalog_v1_id': 'OPTQYJ23UUKGSGSMLDKNBABL',...\n",
       "23    [{'catalog_v1_id': '9D9374B6-035B-453B-9F63-88...\n",
       "24    [{'catalog_v1_id': '335984CF-6D35-4F32-AC32-2B...\n",
       "25    [{'catalog_v1_id': '71FDF300-6EAA-410B-816E-E6...\n",
       "26    [{'catalog_v1_id': '627861D2-2BA0-4367-9FB1-54...\n",
       "27    [{'catalog_v1_id': '45525581-3C6D-49E2-907D-FF...\n",
       "28    [{'catalog_v1_id': '1877250E-785B-4ABA-AF70-50...\n",
       "29                                                  NaN\n",
       "30    [{'catalog_v1_id': '03e2d0c2-1ae5-4fd4-af52-89...\n",
       "31    [{'catalog_v1_id': 'IJ7OHK6MWM63BR25Q3IZK35Y',...\n",
       "32                                                  NaN\n",
       "33    [{'catalog_v1_id': 'D2YIIA7C5VYHTEXYMNEG3VJS',...\n",
       "34    [{'catalog_v1_id': 'LHVZJ2COWA2V42BMLPLIIMU3',...\n",
       "35    [{'catalog_v1_id': 'P327HWAZ7BJ2FTDHAS46GAV5',...\n",
       "36    [{'catalog_v1_id': 'DATMUBVMYIO23KEERNOWIIQA',...\n",
       "37    [{'catalog_v1_id': 'DUHD64TT35LY67P2TFB46EYY',...\n",
       "38    [{'catalog_v1_id': 'Y67UR34H4S67ARNRNLLS5UUS',...\n",
       "39    [{'catalog_v1_id': 'XKWW2CAGK4JF325KGMYTFTJW',...\n",
       "40    [{'catalog_v1_id': 'CKMXV26D2QL33JMRGT4OM2KX',...\n",
       "41    [{'catalog_v1_id': 'B5PSULKKXO6LOER65SOXHFSS',...\n",
       "42    [{'catalog_v1_id': '312C806A-F26F-4FBD-B6A3-62...\n",
       "43    [{'catalog_v1_id': '2E26D4F6-987F-4820-8886-4D...\n",
       "44    [{'catalog_v1_id': 'JD2GBKR7N6K3ZDZUDQMUQAKF',...\n",
       "45    [{'catalog_v1_id': 'ZP4C5H3FMNCSXJTFHNHLGMPS',...\n",
       "46                                                  NaN\n",
       "47                                                  NaN\n",
       "48    [{'catalog_v1_id': 'JPPKVOWEBTTT7NPXMALISFRT',...\n",
       "49    [{'catalog_v1_id': '2337XJJVB67LIU2TZDATD64Y',...\n",
       "50                                                  NaN\n",
       "51                                                  NaN\n",
       "52    [{'catalog_v1_id': 'KPL6DHVS7INKLEEY4NIRGZWZ',...\n",
       "53    [{'catalog_v1_id': '5GR7VRBMVVSYBS6SF4KWV7CU',...\n",
       "54                                                  NaN\n",
       "55                                                  NaN\n",
       "Name: catalog_v1_ids, dtype: object"
      ]
     },
     "execution_count": 25,
     "metadata": {},
     "output_type": "execute_result"
    }
   ],
   "source": [
    "df=pd.DataFrame(items)\n",
    "df['catalog_v1_ids']"
   ]
  },
  {
   "cell_type": "code",
   "execution_count": 36,
   "metadata": {},
   "outputs": [
    {
     "name": "stdout",
     "output_type": "stream",
     "text": [
      "{'type': 'ITEM', 'id': 'NHYA3WM2AOMLBUDYHYCIQ3SO', 'updated_at': '2023-09-18T17:56:10.548Z', 'created_at': '2023-09-18T17:55:13.009Z', 'version': 1695059770548, 'is_deleted': False, 'present_at_all_locations': True, 'item_data': {'name': 'Yellow Card', 'description': 'Yellow Card Fine', 'is_taxable': True, 'visibility': 'PRIVATE', 'variations': [{'type': 'ITEM_VARIATION', 'id': 'XR6BOAZK2WDAQTY3TYE5OGZK', 'updated_at': '2023-09-18T17:55:13.424Z', 'created_at': '2023-09-18T17:55:13.009Z', 'version': 1695059713424, 'is_deleted': False, 'present_at_all_locations': True, 'item_variation_data': {'item_id': 'NHYA3WM2AOMLBUDYHYCIQ3SO', 'name': 'Regular', 'ordinal': 1, 'pricing_type': 'FIXED_PRICING', 'price_money': {'amount': 1200, 'currency': 'GBP'}, 'track_inventory': False, 'sellable': True, 'stockable': True, 'channels': ['CH_4TObjjTX5jqGYyHLOgnuxdv9ADl0tKLOL0qcYRlQuYC']}}], 'product_type': 'REGULAR', 'skip_modifier_screen': False, 'ecom_available': False, 'ecom_visibility': 'UNAVAILABLE', 'description_html': '<p>Yellow Card Fine</p>', 'description_plaintext': 'Yellow Card Fine', 'channels': ['CH_4TObjjTX5jqGYyHLOgnuxdv9ADl0tKLOL0qcYRlQuYC'], 'is_archived': False}}\n",
      "{'type': 'ITEM', 'id': 'U2ACXYHXXYXPON2UI2NISICR', 'updated_at': '2023-10-11T11:44:51.829Z', 'created_at': '2023-10-11T11:44:22.925Z', 'version': 1697024691829, 'is_deleted': False, 'present_at_all_locations': True, 'item_data': {'name': 'Red Card', 'is_taxable': True, 'visibility': 'PRIVATE', 'variations': [{'type': 'ITEM_VARIATION', 'id': '6TRZHNEXBAEOUKVPR64DXNK3', 'updated_at': '2023-10-11T11:44:23.391Z', 'created_at': '2023-10-11T11:44:22.925Z', 'version': 1697024663391, 'is_deleted': False, 'present_at_all_locations': True, 'item_variation_data': {'item_id': 'U2ACXYHXXYXPON2UI2NISICR', 'name': 'Regular', 'sku': '45', 'ordinal': 1, 'pricing_type': 'FIXED_PRICING', 'price_money': {'amount': 4500, 'currency': 'GBP'}, 'track_inventory': False, 'sellable': True, 'stockable': True, 'channels': ['CH_4TObjjTX5jqGYyHLOgnuxdv9ADl0tKLOL0qcYRlQuYC']}}, {'type': 'ITEM_VARIATION', 'id': 'Q3NFJ3RACSEH673HZY3YYJ6C', 'updated_at': '2023-10-11T11:44:51.829Z', 'created_at': '2023-10-11T11:44:22.925Z', 'version': 1697024691829, 'is_deleted': False, 'present_at_all_locations': True, 'item_variation_data': {'item_id': 'U2ACXYHXXYXPON2UI2NISICR', 'name': '45pound red', 'ordinal': 2, 'pricing_type': 'FIXED_PRICING', 'price_money': {'amount': 4500, 'currency': 'GBP'}, 'sellable': True, 'stockable': True, 'channels': ['CH_4TObjjTX5jqGYyHLOgnuxdv9ADl0tKLOL0qcYRlQuYC']}}], 'product_type': 'REGULAR', 'skip_modifier_screen': False, 'ecom_available': False, 'ecom_visibility': 'UNAVAILABLE', 'pickup_fulfillment_preferences_id': 'fprefs_127suckyvj8fe31tcts1uzs7l', 'delivery_fulfillment_preferences_id': 'fprefs_127suckyuo8czbmg4lk8nchox', 'channels': ['CH_4TObjjTX5jqGYyHLOgnuxdv9ADl0tKLOL0qcYRlQuYC'], 'shipping_fulfillment_preferences_id': 'fprefs_127suckyvxuj2ih37ekbw9x1t', 'dine_in_fulfillment_preferences_id': 'fprefs_127suckyv3wvsbnrbq0cv61e9', 'is_archived': False}}\n"
     ]
    }
   ],
   "source": [
    "for item in items:\n",
    "    # try:\n",
    "    #     print(item['catalog_v1_ids'][0]['catalog_v1_id'])\n",
    "    # except:\n",
    "    #     print(item)\n",
    "    try:\n",
    "        if 'Card' in item['item_data']['name'] or 'ubs' in 'Card' in item['item_data']['name']:\n",
    "            print(item)\n",
    "    except:\n",
    "        pass\n"
   ]
  },
  {
   "cell_type": "code",
   "execution_count": 37,
   "metadata": {},
   "outputs": [
    {
     "name": "stdout",
     "output_type": "stream",
     "text": [
      "45C7CEC9-332B-4DF8-B4A4-C44EF77F3CF0\n",
      "0A079EC9-4D3C-45D8-B559-4D0E93E8C7D5\n",
      "7543F5F5-D6A3-4A80-B63C-79257A9917DC\n",
      "3798A878-1611-4631-ADCB-CA95342AB2AB\n",
      "BA0EF7F0-E00C-4491-A6D6-642D34BF943D\n",
      "2A3C3586-8A18-4C90-A749-59012B7F2AD8\n",
      "397F4709-C0FC-455E-9E95-C30AB119A7A9\n",
      "BCC21AE6-0ED5-4806-98B4-CE30331FFB80\n",
      "CE59037A-751A-45CF-82F0-584D1CC4B476\n",
      "C9B80D13-41C2-4A97-BA3F-8B5FA4A48B9C\n",
      "32ACBB35-6BB9-4FD3-BCB5-DE1BAA4A376A\n",
      "6CE314F1-583A-4D1D-ACE9-7BE890744873\n",
      "0C81AF00-B0B7-49E1-9F37-A82A94DBB730\n",
      "{'type': 'ITEM', 'id': 'XSN5274NLRX3IKFTA3HKBVH7', 'updated_at': '2023-10-05T16:10:08.227Z', 'created_at': '2018-07-19T09:22:25.162Z', 'version': 1696522208227, 'is_deleted': False, 'present_at_all_locations': True, 'item_data': {'name': 'Match Sub', 'description': 'TEst', 'abbreviation': 'AM', 'is_taxable': True, 'visibility': 'PRIVATE', 'available_online': False, 'available_for_pickup': False, 'available_electronically': False, 'category_id': 'R44ZZCUDFL7MSDW2L6IJWHB2', 'ordinal': 0, 'variations': [{'type': 'ITEM_VARIATION', 'id': 'OKAX666RRB7XKNM6BJTRM6IM', 'updated_at': '2023-10-05T16:10:08.227Z', 'created_at': '2018-07-19T09:22:25.162Z', 'version': 1696522208227, 'is_deleted': False, 'present_at_all_locations': True, 'item_variation_data': {'item_id': 'XSN5274NLRX3IKFTA3HKBVH7', 'name': 'Full Game', 'ordinal': 0, 'pricing_type': 'FIXED_PRICING', 'price_money': {'amount': 1000, 'currency': 'GBP'}, 'location_overrides': [{'location_id': 'SBBJSGR24YHYB', 'track_inventory': False}], 'inventory_alert_type': 'NONE', 'sellable': True, 'stockable': True, 'channels': ['CH_4TObjjTX5jqGYyHLOgnuxdv9ADl0tKLOL0qcYRlQuYC']}}, {'type': 'ITEM_VARIATION', 'id': 'TOD47LSPH4J7XANDREACPWTV', 'updated_at': '2023-10-05T16:10:08.227Z', 'created_at': '2018-07-19T09:22:25.162Z', 'version': 1696522208227, 'is_deleted': False, 'present_at_all_locations': True, 'item_variation_data': {'item_id': 'XSN5274NLRX3IKFTA3HKBVH7', 'name': 'Half Game', 'ordinal': 1, 'pricing_type': 'FIXED_PRICING', 'price_money': {'amount': 500, 'currency': 'GBP'}, 'location_overrides': [{'location_id': 'SBBJSGR24YHYB', 'track_inventory': False}], 'inventory_alert_type': 'NONE', 'sellable': True, 'stockable': True, 'channels': ['CH_4TObjjTX5jqGYyHLOgnuxdv9ADl0tKLOL0qcYRlQuYC']}}, {'type': 'ITEM_VARIATION', 'id': 'S6J7ATAU2E5PESUDQ75DXMJN', 'updated_at': '2023-10-05T16:10:08.227Z', 'created_at': '2021-08-17T22:04:44.429Z', 'version': 1696522208227, 'is_deleted': False, 'catalog_v1_ids': [{'catalog_v1_id': '6SCJOS2Z37CEK6JXQ6EELGKC', 'location_id': 'SBBJSGR24YHYB'}], 'present_at_all_locations': False, 'present_at_location_ids': ['SBBJSGR24YHYB'], 'item_variation_data': {'item_id': 'XSN5274NLRX3IKFTA3HKBVH7', 'name': 'U23 Full Game', 'ordinal': 2, 'pricing_type': 'FIXED_PRICING', 'price_money': {'amount': 500, 'currency': 'GBP'}, 'location_overrides': [{'location_id': 'SBBJSGR24YHYB', 'track_inventory': False}], 'inventory_alert_type': 'NONE', 'sellable': True, 'stockable': True, 'channels': ['CH_4TObjjTX5jqGYyHLOgnuxdv9ADl0tKLOL0qcYRlQuYC']}}, {'type': 'ITEM_VARIATION', 'id': 'D62BYYUZLWVWYRWUWJFAAITZ', 'updated_at': '2023-10-05T16:10:08.227Z', 'created_at': '2021-08-17T22:04:44.429Z', 'version': 1696522208227, 'is_deleted': False, 'catalog_v1_ids': [{'catalog_v1_id': 'FHMTHQNNKTADQG7O6KWZF6LH', 'location_id': 'SBBJSGR24YHYB'}], 'present_at_all_locations': False, 'present_at_location_ids': ['SBBJSGR24YHYB'], 'item_variation_data': {'item_id': 'XSN5274NLRX3IKFTA3HKBVH7', 'name': 'U23 Half Game', 'ordinal': 3, 'pricing_type': 'FIXED_PRICING', 'price_money': {'amount': 250, 'currency': 'GBP'}, 'location_overrides': [{'location_id': 'SBBJSGR24YHYB', 'track_inventory': False}], 'inventory_alert_type': 'NONE', 'sellable': True, 'stockable': True, 'channels': ['CH_4TObjjTX5jqGYyHLOgnuxdv9ADl0tKLOL0qcYRlQuYC']}}], 'product_type': 'REGULAR', 'skip_modifier_screen': False, 'ecom_image_uris': ['https://otfc.square.site/uploads/1/2/5/8/125894332/s192431573934152195_p20_i1_w1023.jpeg', 'https://otfc.square.site/uploads/1/2/5/8/125894332/s192431573934152195_p20_i2_w1023.jpeg'], 'ecom_available': True, 'ecom_visibility': 'HIDDEN', 'image_ids': ['NNVZTKFY6EB3WRG5IG6LEUHW', 'EPDNNPJASSPQ7JIWENBL3OZI'], 'pickup_fulfillment_preferences_id': 'fprefs_127qp3wscrxqa8i07445ugvtw', 'delivery_fulfillment_preferences_id': 'fprefs_127qp3wsc8jqudm8xnkml5o9w', 'description_html': '<p>TEst</p>', 'description_plaintext': 'TEst', 'channels': ['CH_4TObjjTX5jqGYyHLOgnuxdv9ADl0tKLOL0qcYRlQuYC'], 'shipping_fulfillment_preferences_id': 'fprefs_127kczy4dgi19pxnajb78ycrh', 'dine_in_fulfillment_preferences_id': 'fprefs_127kczy4d167x9a0jwh6l7fvh', 'is_archived': False}}\n",
      "d603127e-1db3-45f4-8b42-32fea1ede6b2\n",
      "10d66d16-92b0-4f01-ab88-0e7fffddd887\n",
      "da7154d5-d5f8-45ee-a3d5-6cfb54d441cb\n",
      "E35ZZ6FDBWGYRNMYWREJVDT2\n",
      "NUPXUE3A4B5PNBBV7H6P4HAL\n",
      "CWUTCUWVQPVU32UZGZ6F4SBW\n",
      "BC7JEYEKL2HQ25VMLLIZRSKE\n",
      "3Y2Q54IRPOW6KVODZHBPFWEG\n",
      "OPTQYJ23UUKGSGSMLDKNBABL\n",
      "9D9374B6-035B-453B-9F63-88B56395BEF7\n",
      "335984CF-6D35-4F32-AC32-2B8D409BF247\n",
      "71FDF300-6EAA-410B-816E-E667607BAA78\n",
      "627861D2-2BA0-4367-9FB1-544034F14277\n",
      "45525581-3C6D-49E2-907D-FFFB6E724830\n",
      "1877250E-785B-4ABA-AF70-5006E2D79615\n",
      "{'type': 'CATEGORY', 'id': 'R44ZZCUDFL7MSDW2L6IJWHB2', 'updated_at': '2023-05-24T00:19:47.867Z', 'created_at': '2018-07-19T09:22:24.899Z', 'version': 1684887587867, 'is_deleted': False, 'present_at_all_locations': True, 'category_data': {'name': 'Match Subs', 'ordinal': 0, 'is_top_level': True}}\n",
      "03e2d0c2-1ae5-4fd4-af52-8972fdd1399e\n",
      "IJ7OHK6MWM63BR25Q3IZK35Y\n",
      "{'type': 'QUICK_AMOUNTS_SETTINGS', 'id': 'UNBKMTA4WPOLOTLJBQU6LAFU', 'updated_at': '2023-06-30T11:37:26.186Z', 'created_at': '2020-09-19T16:14:44.187Z', 'version': 1688125046186, 'is_deleted': False, 'present_at_all_locations': False, 'present_at_location_ids': ['SBBJSGR24YHYB'], 'quick_amounts_settings_data': {'option': 'AUTO', 'eligible_for_auto_amounts': True, 'amounts': [{'type': 'QUICK_AMOUNT_TYPE_AUTO', 'amount': {'amount': 500, 'currency': 'GBP'}, 'score': 0}, {'type': 'QUICK_AMOUNT_TYPE_AUTO', 'amount': {'amount': 495, 'currency': 'GBP'}, 'score': 0}, {'type': 'QUICK_AMOUNT_TYPE_AUTO', 'amount': {'amount': 990, 'currency': 'GBP'}, 'score': 0}]}}\n",
      "D2YIIA7C5VYHTEXYMNEG3VJS\n",
      "LHVZJ2COWA2V42BMLPLIIMU3\n",
      "P327HWAZ7BJ2FTDHAS46GAV5\n",
      "DATMUBVMYIO23KEERNOWIIQA\n",
      "DUHD64TT35LY67P2TFB46EYY\n",
      "Y67UR34H4S67ARNRNLLS5UUS\n",
      "XKWW2CAGK4JF325KGMYTFTJW\n",
      "CKMXV26D2QL33JMRGT4OM2KX\n",
      "B5PSULKKXO6LOER65SOXHFSS\n",
      "312C806A-F26F-4FBD-B6A3-62AC7BEEB76D\n",
      "2E26D4F6-987F-4820-8886-4D30CFFD9937\n",
      "JD2GBKR7N6K3ZDZUDQMUQAKF\n",
      "ZP4C5H3FMNCSXJTFHNHLGMPS\n",
      "{'type': 'CUSTOM_ATTRIBUTE_DEFINITION', 'id': 'ODV5G2IROBEOZXY2Z7DDL3DR', 'updated_at': '2022-11-16T10:59:02.174Z', 'created_at': '2022-11-16T10:59:02.174Z', 'version': 1668596342174, 'is_deleted': False, 'present_at_all_locations': True, 'custom_attribute_definition_data': {'type': 'BOOLEAN', 'name': 'Is Alcoholic', 'description': 'Enabling this toggle on an item indicates that it contains alcohol.', 'source_application': {'application_id': 'sq0idp-w46nJ_NCNDMSOywaCY0mwA', 'name': 'Square Online Store'}, 'allowed_object_types': ['ITEM'], 'seller_visibility': 'SELLER_VISIBILITY_HIDDEN', 'app_visibility': 'APP_VISIBILITY_HIDDEN', 'key': 'is_alcoholic'}}\n",
      "{'type': 'CUSTOM_ATTRIBUTE_DEFINITION', 'id': 'HINUPVSBHKCFQCED6SQJFBYP', 'updated_at': '2022-11-16T10:59:02.391Z', 'created_at': '2022-11-16T10:59:02.391Z', 'version': 1668596342391, 'is_deleted': False, 'present_at_all_locations': True, 'custom_attribute_definition_data': {'type': 'STRING', 'name': 'Ecom Storefront Classic Site ID', 'description': 'Ecommerce bridge target storefront classic site ID. Used to create site-item associations after copying items.', 'source_application': {'application_id': 'sq0idp-w46nJ_NCNDMSOywaCY0mwA', 'name': 'Square Online Store'}, 'allowed_object_types': ['ITEM'], 'seller_visibility': 'SELLER_VISIBILITY_HIDDEN', 'app_visibility': 'APP_VISIBILITY_HIDDEN', 'string_config': {'enforce_uniqueness': False}, 'key': 'ecom_target_classic_site_id'}}\n",
      "JPPKVOWEBTTT7NPXMALISFRT\n",
      "2337XJJVB67LIU2TZDATD64Y\n",
      "{'type': 'DISCOUNT', 'id': '4PRQSDJWFDZGC5PRL7XE6CUG', 'updated_at': '2023-08-07T17:12:47.339Z', 'created_at': '2023-08-07T17:12:47.339Z', 'version': 1691428367339, 'is_deleted': False, 'present_at_all_locations': True, 'discount_data': {'name': 'Staff', 'discount_type': 'FIXED_PERCENTAGE', 'percentage': '20.0', 'application_method': 'MANUALLY_APPLIED', 'modify_tax_basis': 'MODIFY_TAX_BASIS'}}\n",
      "{'type': 'ITEM', 'id': 'NHYA3WM2AOMLBUDYHYCIQ3SO', 'updated_at': '2023-09-18T17:56:10.548Z', 'created_at': '2023-09-18T17:55:13.009Z', 'version': 1695059770548, 'is_deleted': False, 'present_at_all_locations': True, 'item_data': {'name': 'Yellow Card', 'description': 'Yellow Card Fine', 'is_taxable': True, 'visibility': 'PRIVATE', 'variations': [{'type': 'ITEM_VARIATION', 'id': 'XR6BOAZK2WDAQTY3TYE5OGZK', 'updated_at': '2023-09-18T17:55:13.424Z', 'created_at': '2023-09-18T17:55:13.009Z', 'version': 1695059713424, 'is_deleted': False, 'present_at_all_locations': True, 'item_variation_data': {'item_id': 'NHYA3WM2AOMLBUDYHYCIQ3SO', 'name': 'Regular', 'ordinal': 1, 'pricing_type': 'FIXED_PRICING', 'price_money': {'amount': 1200, 'currency': 'GBP'}, 'track_inventory': False, 'sellable': True, 'stockable': True, 'channels': ['CH_4TObjjTX5jqGYyHLOgnuxdv9ADl0tKLOL0qcYRlQuYC']}}], 'product_type': 'REGULAR', 'skip_modifier_screen': False, 'ecom_available': False, 'ecom_visibility': 'UNAVAILABLE', 'description_html': '<p>Yellow Card Fine</p>', 'description_plaintext': 'Yellow Card Fine', 'channels': ['CH_4TObjjTX5jqGYyHLOgnuxdv9ADl0tKLOL0qcYRlQuYC'], 'is_archived': False}}\n",
      "KPL6DHVS7INKLEEY4NIRGZWZ\n",
      "5GR7VRBMVVSYBS6SF4KWV7CU\n",
      "{'type': 'ITEM', 'id': 'U2ACXYHXXYXPON2UI2NISICR', 'updated_at': '2023-10-11T11:44:51.829Z', 'created_at': '2023-10-11T11:44:22.925Z', 'version': 1697024691829, 'is_deleted': False, 'present_at_all_locations': True, 'item_data': {'name': 'Red Card', 'is_taxable': True, 'visibility': 'PRIVATE', 'variations': [{'type': 'ITEM_VARIATION', 'id': '6TRZHNEXBAEOUKVPR64DXNK3', 'updated_at': '2023-10-11T11:44:23.391Z', 'created_at': '2023-10-11T11:44:22.925Z', 'version': 1697024663391, 'is_deleted': False, 'present_at_all_locations': True, 'item_variation_data': {'item_id': 'U2ACXYHXXYXPON2UI2NISICR', 'name': 'Regular', 'sku': '45', 'ordinal': 1, 'pricing_type': 'FIXED_PRICING', 'price_money': {'amount': 4500, 'currency': 'GBP'}, 'track_inventory': False, 'sellable': True, 'stockable': True, 'channels': ['CH_4TObjjTX5jqGYyHLOgnuxdv9ADl0tKLOL0qcYRlQuYC']}}, {'type': 'ITEM_VARIATION', 'id': 'Q3NFJ3RACSEH673HZY3YYJ6C', 'updated_at': '2023-10-11T11:44:51.829Z', 'created_at': '2023-10-11T11:44:22.925Z', 'version': 1697024691829, 'is_deleted': False, 'present_at_all_locations': True, 'item_variation_data': {'item_id': 'U2ACXYHXXYXPON2UI2NISICR', 'name': '45pound red', 'ordinal': 2, 'pricing_type': 'FIXED_PRICING', 'price_money': {'amount': 4500, 'currency': 'GBP'}, 'sellable': True, 'stockable': True, 'channels': ['CH_4TObjjTX5jqGYyHLOgnuxdv9ADl0tKLOL0qcYRlQuYC']}}], 'product_type': 'REGULAR', 'skip_modifier_screen': False, 'ecom_available': False, 'ecom_visibility': 'UNAVAILABLE', 'pickup_fulfillment_preferences_id': 'fprefs_127suckyvj8fe31tcts1uzs7l', 'delivery_fulfillment_preferences_id': 'fprefs_127suckyuo8czbmg4lk8nchox', 'channels': ['CH_4TObjjTX5jqGYyHLOgnuxdv9ADl0tKLOL0qcYRlQuYC'], 'shipping_fulfillment_preferences_id': 'fprefs_127suckyvxuj2ih37ekbw9x1t', 'dine_in_fulfillment_preferences_id': 'fprefs_127suckyv3wvsbnrbq0cv61e9', 'is_archived': False}}\n",
      "{'type': 'CUSTOM_ATTRIBUTE_DEFINITION', 'id': 'BKM5MYBTEPBBZMX32M5GMMZ7', 'updated_at': '2023-11-08T22:07:59.249Z', 'created_at': '2023-11-08T22:07:59.249Z', 'version': 1699481279249, 'is_deleted': False, 'present_at_all_locations': True, 'custom_attribute_definition_data': {'type': 'STRING', 'name': 'ECOM Short Id', 'source_application': {'application_id': 'sq0idp-w46nJ_NCNDMSOywaCY0mwA', 'name': 'Square Online Store'}, 'allowed_object_types': ['ITEM'], 'seller_visibility': 'SELLER_VISIBILITY_HIDDEN', 'app_visibility': 'APP_VISIBILITY_HIDDEN', 'string_config': {'enforce_uniqueness': False}, 'key': 'ecom_short_id'}}\n"
     ]
    }
   ],
   "source": [
    "for item in items:\n",
    "    try:\n",
    "        print(item['catalog_v1_ids'][0]['catalog_v1_id'])\n",
    "    except:\n",
    "        print(item)\n",
    "    # try:\n",
    "    #     if 'Card' in item['item_data']['name'] or 'ubs' in 'Card' in item['item_data']['name']:\n",
    "    #         print(item)\n",
    "    # except:\n",
    "    #     pass\n"
   ]
  },
  {
   "cell_type": "code",
   "execution_count": null,
   "metadata": {},
   "outputs": [],
   "source": [
    "OKAX666RRB7XKNM6BJTRM6IM"
   ]
  }
 ],
 "metadata": {
  "kernelspec": {
   "display_name": "myenv",
   "language": "python",
   "name": "python3"
  },
  "language_info": {
   "codemirror_mode": {
    "name": "ipython",
    "version": 3
   },
   "file_extension": ".py",
   "mimetype": "text/x-python",
   "name": "python",
   "nbconvert_exporter": "python",
   "pygments_lexer": "ipython3",
   "version": "3.11.6"
  },
  "orig_nbformat": 4
 },
 "nbformat": 4,
 "nbformat_minor": 2
}
